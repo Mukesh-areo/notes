{
 "cells": [
  {
   "cell_type": "code",
   "execution_count": 2,
   "id": "d18bb30b",
   "metadata": {},
   "outputs": [],
   "source": [
    "import docx\n",
    "import spacy\n",
    "from collections import defaultdict\n",
    "\n",
    "# Load spaCy model\n",
    "nlp = spacy.load(\"en_core_web_sm\")\n",
    "\n"
   ]
  },
  {
   "cell_type": "code",
   "execution_count": 9,
   "id": "84d83008",
   "metadata": {},
   "outputs": [
    {
     "name": "stdout",
     "output_type": "stream",
     "text": [
      "The quick brown fox jumps over the lazy dog. The lazy cat watches from afar, while the brown squirrel scurries up the tree. A distant howl echoes through the night.\n"
     ]
    }
   ],
   "source": [
    "# Function to tokenize and lemmatize text\n",
    "def preprocess_text(text):\n",
    "    doc = nlp(text)\n",
    "    tokens = [token.lemma_ for token in doc if not token.is_stop and token.is_alpha]\n",
    "    return tokens\n",
    "\n",
    "# Read the Word document\n",
    "doc = docx.Document(r\"C:\\Users\\LENOVO\\OneDrive\\Desktop\\demo_file.docx\")\n",
    "\n",
    "# Get the first paragraph as reference\n",
    "reference_paragraph = doc.paragraphs[0].text\n",
    "reference_words = set(preprocess_text(reference_paragraph))\n",
    "\n",
    "print(reference_paragraph)"
   ]
  },
  {
   "cell_type": "code",
   "execution_count": 10,
   "id": "4b5a4ac4",
   "metadata": {},
   "outputs": [
    {
     "data": {
      "text/plain": [
       "{'afar',\n",
       " 'brown',\n",
       " 'cat',\n",
       " 'distant',\n",
       " 'dog',\n",
       " 'echo',\n",
       " 'fox',\n",
       " 'howl',\n",
       " 'jump',\n",
       " 'lazy',\n",
       " 'night',\n",
       " 'quick',\n",
       " 'scurry',\n",
       " 'squirrel',\n",
       " 'tree',\n",
       " 'watch'}"
      ]
     },
     "execution_count": 10,
     "metadata": {},
     "output_type": "execute_result"
    }
   ],
   "source": [
    "reference_words"
   ]
  },
  {
   "cell_type": "code",
   "execution_count": 11,
   "id": "15693a51",
   "metadata": {},
   "outputs": [
    {
     "name": "stdout",
     "output_type": "stream",
     "text": [
      "Paragraph: A fast brown hare leaps over the sleeping dog. A drowsy cat observes from a distance, and the grey mouse hides in the corner. A faint rustle breaks the silence.\n",
      "Similar Words: {'dog', 'brown', 'cat'}\n",
      "Paragraph: The brown bear lumbers through the forest, while the playful fox frolics in the meadow. A distant howl pierces the quiet, and the owl hoots softly in the night.\n",
      "Similar Words: {'fox', 'howl', 'distant', 'night', 'brown'}\n"
     ]
    }
   ],
   "source": [
    "# Initialize a dictionary to store similar words for each paragraph\n",
    "similar_words_dict = defaultdict(set)\n",
    "\n",
    "# Iterate through subsequent paragraphs\n",
    "for paragraph in doc.paragraphs[1:]:\n",
    "    words = set(preprocess_text(paragraph.text))\n",
    "    for word in words:\n",
    "        if word in reference_words:\n",
    "            similar_words_dict[paragraph.text].add(word)\n",
    "\n",
    "# Print similar words for each paragraph\n",
    "for paragraph, similar_words in similar_words_dict.items():\n",
    "    print(f\"Paragraph: {paragraph}\")\n",
    "    print(f\"Similar Words: {similar_words}\")\n"
   ]
  },
  {
   "cell_type": "code",
   "execution_count": 15,
   "id": "f6b27fdf",
   "metadata": {},
   "outputs": [],
   "source": [
    "import docx\n",
    "from docx.shared import RGBColor\n",
    "import spacy\n",
    "from collections import defaultdict\n",
    "\n",
    "# Load spaCy model\n",
    "nlp = spacy.load(\"en_core_web_sm\")\n",
    "\n",
    "# Function to tokenize and lemmatize text\n",
    "def preprocess_text(text):\n",
    "    doc = nlp(text)\n",
    "    tokens = [token.lemma_ for token in doc if not token.is_stop and token.is_alpha]\n",
    "    return tokens\n",
    "\n",
    "# Read the Word document\n",
    "doc = docx.Document(r\"C:\\Users\\LENOVO\\OneDrive\\Desktop\\demo_file.docx\")\n",
    "\n",
    "# Get the first paragraph as reference\n",
    "reference_paragraph = doc.paragraphs[0].text\n",
    "reference_words = set(preprocess_text(reference_paragraph))\n",
    "\n",
    "# Initialize a dictionary to store similar words for each paragraph\n",
    "similar_words_dict = defaultdict(set)\n",
    "\n",
    "# Iterate through subsequent paragraphs\n",
    "for paragraph in doc.paragraphs[1:]:\n",
    "    words = set(preprocess_text(paragraph.text))\n",
    "    for word in words:\n",
    "        if word in reference_words:\n",
    "            similar_words_dict[paragraph.text].add(word)\n",
    "\n",
    "# Create a new document for highlighting\n",
    "new_doc = docx.Document()\n",
    "\n",
    "# Function to highlight words in a paragraph\n",
    "def highlight_words(paragraph, similar_words):\n",
    "    run = paragraph.add_run()\n",
    "    for word in paragraph.text.split():\n",
    "        if word.lower() in similar_words:\n",
    "            font = run.font\n",
    "            font.color.rgb = RGBColor(255, 0, 0)  # Red color for highlighting\n",
    "        run.add_text(word + \" \")\n",
    "    paragraph.add_run().add_break()\n",
    "\n",
    "# Add highlighted paragraphs to the new document\n",
    "for paragraph, similar_words in similar_words_dict.items():\n",
    "    new_paragraph = new_doc.add_paragraph()\n",
    "    highlight_words(new_paragraph, similar_words)\n",
    "\n",
    "# Save the new document\n",
    "new_doc.save(r\"C:\\Users\\LENOVO\\OneDrive\\Desktop\\highlighted_document.docx\")\n"
   ]
  },
  {
   "cell_type": "code",
   "execution_count": 18,
   "id": "a02d5471",
   "metadata": {},
   "outputs": [],
   "source": [
    "import docx\n",
    "from docx.shared import RGBColor\n",
    "import spacy\n",
    "\n",
    "# Load spaCy model\n",
    "nlp = spacy.load(\"en_core_web_sm\")\n",
    "\n",
    "# Function to tokenize and lemmatize text\n",
    "def preprocess_text(text):\n",
    "    doc = nlp(text)\n",
    "    tokens = [token.lemma_ for token in doc if not token.is_stop and token.is_alpha]\n",
    "    return tokens\n",
    "\n",
    "# Open the Word document\n",
    "doc = docx.Document(r\"C:\\Users\\LENOVO\\OneDrive\\Desktop\\demo_file.docx\")\n",
    "\n",
    "# Get the first paragraph as reference\n",
    "reference_paragraph = doc.paragraphs[0].text\n",
    "reference_words = set(preprocess_text(reference_paragraph.lower()))  # Convert to lowercase for case-insensitive matching\n",
    "\n",
    "# Function to highlight words in a paragraph\n",
    "def highlight_words(paragraph, similar_words):\n",
    "    for run in paragraph.runs:\n",
    "        for word in run.text.split():\n",
    "            if word.lower() in similar_words:\n",
    "                font = run.font\n",
    "                font.color.rgb = RGBColor(255, 0, 0)  # Red color for highlighting\n",
    "\n",
    "# Iterate through subsequent paragraphs and highlight similar words\n",
    "for paragraph in doc.paragraphs[1:]:\n",
    "    words = set(preprocess_text(paragraph.text.lower()))  # Convert to lowercase for case-insensitive matching\n",
    "    similar_words = reference_words.intersection(words)\n",
    "    highlight_words(paragraph, similar_words)\n",
    "\n",
    "# Save the modified document\n",
    "doc.save(r\"C:\\Users\\LENOVO\\OneDrive\\Desktop\\demo_file.docx\")\n"
   ]
  },
  {
   "cell_type": "code",
   "execution_count": null,
   "id": "234549b5",
   "metadata": {},
   "outputs": [],
   "source": []
  }
 ],
 "metadata": {
  "kernelspec": {
   "display_name": "Python 3 (ipykernel)",
   "language": "python",
   "name": "python3"
  },
  "language_info": {
   "codemirror_mode": {
    "name": "ipython",
    "version": 3
   },
   "file_extension": ".py",
   "mimetype": "text/x-python",
   "name": "python",
   "nbconvert_exporter": "python",
   "pygments_lexer": "ipython3",
   "version": "3.11.5"
  }
 },
 "nbformat": 4,
 "nbformat_minor": 5
}
